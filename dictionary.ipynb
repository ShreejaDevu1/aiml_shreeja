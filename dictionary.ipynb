{
 "cells": [
  {
   "cell_type": "code",
   "execution_count": 13,
   "id": "39c178a8-de78-4832-be93-aa0b543d2a80",
   "metadata": {},
   "outputs": [
    {
     "data": {
      "text/plain": [
       "{'virat': 90,\n",
       " 'Rohit': 100,\n",
       " 'siraz': 15,\n",
       " 'rahul': 70,\n",
       " 'hardik': 9,\n",
       " 'gill': 20,\n",
       " 'jadeja': 40,\n",
       " 'ashwin': 15}"
      ]
     },
     "execution_count": 13,
     "metadata": {},
     "output_type": "execute_result"
    }
   ],
   "source": [
    "scores={\"virat\":90,\"Rohit\":100,\"siraz\":15,\"rahul\":70,\"hardik\":9,\"gill\":20,\"jadeja\":30}\n",
    "scores[\"ashwin\"]=15\n",
    "scores.update({\"jadeja\":40})\n",
    "scores"
   ]
  },
  {
   "cell_type": "code",
   "execution_count": 15,
   "id": "9e499139-4920-448e-964b-e5d07f991647",
   "metadata": {},
   "outputs": [
    {
     "data": {
      "text/plain": [
       "{'virat': 90,\n",
       " 'Rohit': 100,\n",
       " 'siraz': 15,\n",
       " 'rahul': 70,\n",
       " 'hardik': 65,\n",
       " 'gill': 20,\n",
       " 'jadeja': 40,\n",
       " 'ashwin': 15,\n",
       " 'Rahane': 45}"
      ]
     },
     "execution_count": 15,
     "metadata": {},
     "output_type": "execute_result"
    }
   ],
   "source": [
    "scores.update({\"hardik\":65,\"Rahane\":45})\n",
    "scores"
   ]
  },
  {
   "cell_type": "code",
   "execution_count": 17,
   "id": "aa1a00a2-e65d-4e00-9728-5be45831d3f0",
   "metadata": {},
   "outputs": [
    {
     "data": {
      "text/plain": [
       "{'virat': 90,\n",
       " 'Rohit': 100,\n",
       " 'siraz': 15,\n",
       " 'rahul': 70,\n",
       " 'hardik': 65,\n",
       " 'gill': 20,\n",
       " 'jadeja': 40,\n",
       " 'ashwin': 15,\n",
       " 'Rahane': 45,\n",
       " 'Rahul': 60}"
      ]
     },
     "execution_count": 17,
     "metadata": {},
     "output_type": "execute_result"
    }
   ],
   "source": [
    "scores.setdefault(\"Rahul\",60)\n",
    "scores"
   ]
  },
  {
   "cell_type": "code",
   "execution_count": 19,
   "id": "f6917cac-22f6-4edd-89a3-cf68378fa61a",
   "metadata": {},
   "outputs": [
    {
     "data": {
      "text/plain": [
       "{'virat': 90,\n",
       " 'Rohit': 100,\n",
       " 'siraz': 15,\n",
       " 'rahul': 70,\n",
       " 'hardik': 65,\n",
       " 'gill': 20,\n",
       " 'jadeja': 40,\n",
       " 'ashwin': 15,\n",
       " 'Rahane': 45,\n",
       " 'Rahul': 60,\n",
       " 'pujara': 50}"
      ]
     },
     "execution_count": 19,
     "metadata": {},
     "output_type": "execute_result"
    }
   ],
   "source": [
    "scores.setdefault(\"pujara\",50)\n",
    "scores"
   ]
  },
  {
   "cell_type": "code",
   "execution_count": 21,
   "id": "913e2429-30ea-473a-a2e5-d74fb9dac910",
   "metadata": {},
   "outputs": [
    {
     "data": {
      "text/plain": [
       "{'virat': 90,\n",
       " 'Rohit': 100,\n",
       " 'siraz': 15,\n",
       " 'rahul': 70,\n",
       " 'hardik': 65,\n",
       " 'gill': 20,\n",
       " 'jadeja': 40,\n",
       " 'ashwin': 15,\n",
       " 'Rahane': 45,\n",
       " 'Rahul': 60}"
      ]
     },
     "execution_count": 21,
     "metadata": {},
     "output_type": "execute_result"
    }
   ],
   "source": [
    "#removes last pair- pop item;pop(key)- removes specified pair\n",
    "scores.popitem()\n",
    "scores"
   ]
  },
  {
   "cell_type": "code",
   "execution_count": 26,
   "id": "e85215dd-053a-41d6-bffb-2d6f2b3be8f0",
   "metadata": {},
   "outputs": [
    {
     "data": {
      "text/plain": [
       "15"
      ]
     },
     "execution_count": 26,
     "metadata": {},
     "output_type": "execute_result"
    }
   ],
   "source": [
    "#get() used to retrieve the value of a specified pair\n",
    "scores.get(\"siraz\")"
   ]
  },
  {
   "cell_type": "code",
   "execution_count": 28,
   "id": "8ed4acbb-448d-483f-bb0a-716edf681662",
   "metadata": {},
   "outputs": [
    {
     "data": {
      "text/plain": [
       "{'A': 20, 'B': 20, 'C': 20, 'D': 20}"
      ]
     },
     "execution_count": 28,
     "metadata": {},
     "output_type": "execute_result"
    }
   ],
   "source": [
    "#use of fromkeys() to create a new dict\n",
    "list1=[\"A\",\"B\",\"C\",\"D\"]\n",
    "my_dict=dict.fromkeys(list1,20)\n",
    "my_dict"
   ]
  },
  {
   "cell_type": "code",
   "execution_count": 46,
   "id": "c69e2db1-76e9-4f48-86aa-17cc543fe268",
   "metadata": {},
   "outputs": [
    {
     "name": "stdout",
     "output_type": "stream",
     "text": [
      "[90, 100, 15, 70, 65, 20, 40, 15, 45, 60]\n",
      "Total score:  520\n"
     ]
    }
   ],
   "source": [
    "scores_list = []\n",
    "for v in scores.values():\n",
    "    scores_list.append(v)\n",
    "print(scores_list)\n",
    "print(\"Total score: \",sum(scores_list))\n"
   ]
  },
  {
   "cell_type": "code",
   "execution_count": null,
   "id": "148215df-758c-4907-88bb-00c3c570b3fe",
   "metadata": {},
   "outputs": [],
   "source": []
  },
  {
   "cell_type": "code",
   "execution_count": null,
   "id": "4f60b6dd-62a3-4554-9e55-13df474c97f7",
   "metadata": {},
   "outputs": [],
   "source": []
  }
 ],
 "metadata": {
  "kernelspec": {
   "display_name": "Python [conda env:base] *",
   "language": "python",
   "name": "conda-base-py"
  },
  "language_info": {
   "codemirror_mode": {
    "name": "ipython",
    "version": 3
   },
   "file_extension": ".py",
   "mimetype": "text/x-python",
   "name": "python",
   "nbconvert_exporter": "python",
   "pygments_lexer": "ipython3",
   "version": "3.12.7"
  }
 },
 "nbformat": 4,
 "nbformat_minor": 5
}
